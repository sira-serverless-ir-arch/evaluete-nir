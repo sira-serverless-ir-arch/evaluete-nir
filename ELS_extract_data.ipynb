{
  "cells": [
    {
      "cell_type": "markdown",
      "metadata": {
        "id": "rF0T3YURGgQe"
      },
      "source": [
        "## DEPENDENCE INSTALL\n",
        "\n",
        "- Dependencies install for evaluation of metrics\n",
        "- Instalação das depedendencias necessárias para executar todos as avaliações"
      ]
    },
    {
      "cell_type": "code",
      "execution_count": null,
      "metadata": {
        "colab": {
          "base_uri": "https://localhost:8080/"
        },
        "id": "CwcXLbGWhnbV",
        "outputId": "b9106385-df56-402d-e0d9-22c46f7e592f"
      },
      "outputs": [],
      "source": [
        "%pip install numpy cython\n",
        "%pip install wheel\n",
        "%pip install ir_datasets\n",
        "%pip install scikit-learn\n",
        "%pip install nltk\n",
        "%pip install requests\n",
        "%pip install pandas"
      ]
    },
    {
      "cell_type": "code",
      "execution_count": 12,
      "metadata": {
        "id": "eYX6dDnjhrfv"
      },
      "outputs": [],
      "source": [
        "import re\n",
        "import ir_datasets\n",
        "import numpy as np\n",
        "import requests\n",
        "import json\n",
        "import nltk\n",
        "from nltk.tokenize import word_tokenize"
      ]
    },
    {
      "cell_type": "code",
      "execution_count": 13,
      "metadata": {},
      "outputs": [],
      "source": [
        "dataset = ir_datasets.load('cranfield')"
      ]
    },
    {
      "cell_type": "code",
      "execution_count": 3,
      "metadata": {
        "colab": {
          "base_uri": "https://localhost:8080/"
        },
        "id": "SYex88DXh411",
        "outputId": "3f41420f-6847-4a26-a3a4-ccfe43cacf38"
      },
      "outputs": [
        {
          "data": {
            "text/plain": [
              "1400"
            ]
          },
          "execution_count": 3,
          "metadata": {},
          "output_type": "execute_result"
        }
      ],
      "source": [
        "dataset.docs_count()"
      ]
    },
    {
      "cell_type": "markdown",
      "metadata": {
        "id": "kfFNdi8_pmmJ"
      },
      "source": [
        "## INDEXAR DOCUMENTOS"
      ]
    },
    {
      "cell_type": "code",
      "execution_count": null,
      "metadata": {
        "colab": {
          "base_uri": "https://localhost:8080/"
        },
        "id": "fAhT_EgUh78j",
        "outputId": "d3e21ce4-7e29-4e45-e907-73d3c7d45a8e"
      },
      "outputs": [],
      "source": [
        "count = 0\n",
        "nltk.download(\"punkt\")\n",
        "for doc in dataset.docs_iter():\n",
        "\n",
        "  sents = list(word_tokenize(doc.text))\n",
        "\n",
        "  mystr = ' '.join(map(str, sents))\n",
        "\n",
        "  myobj = {\n",
        "            'id': doc.doc_id,\n",
        "            'title': doc.title.strip(),\n",
        "            'body': mystr.strip()\n",
        "          }\n",
        "  response = requests.post('http://127.0.0.1:9200/cranfield/_doc/' + doc.doc_id, json=myobj)\n",
        "  if response.status_code == 201:\n",
        "    count += 1\n",
        "  else:\n",
        "    print(\"DOC ID \", doc.doc_id, \"Status \", response.status_code)\n",
        "    print(response.text)\n",
        "\n",
        "print(\"Indexed \", count)"
      ]
    },
    {
      "cell_type": "markdown",
      "metadata": {
        "id": "Y4danPLyuz7P"
      },
      "source": [
        "## EFETUAR BUSCAS"
      ]
    },
    {
      "cell_type": "code",
      "execution_count": 14,
      "metadata": {
        "colab": {
          "base_uri": "https://localhost:8080/",
          "height": 520
        },
        "id": "bd-6uSs8_mSL",
        "outputId": "e4ffe7d7-a3f3-4ac6-ce2b-836a2b3d5275"
      },
      "outputs": [
        {
          "name": "stdout",
          "output_type": "stream",
          "text": [
            "Total..:  225\n"
          ]
        }
      ],
      "source": [
        "count = 0\n",
        "documents = []\n",
        "for query in dataset.queries_iter():\n",
        "\n",
        "  # sent = list(word_tokenize(query.text))\n",
        "  # mystr = ' '.join(map(str, sent))\n",
        "  qry = \"http://127.0.0.1:9200/cranfield/_doc/_search\"\n",
        "  x = requests.get(qry, json={\n",
        "      \"query\": {\n",
        "          \"match\": {\n",
        "              \"body\": query.text\n",
        "          }\n",
        "      }\n",
        "  })\n",
        "\n",
        "  if x.status_code == 200:\n",
        "    obj = json.loads(x.text)\n",
        "    documents.append({\n",
        "        \"query_id\":query.query_id,\n",
        "        \"result\":obj\n",
        "    })\n",
        "    count += 1\n",
        "\n",
        "\n",
        "print(\"Total..: \",count)\n",
        "  # print(\"Query ID:\", query.query_id, \"Status code:\", x.status_code)"
      ]
    },
    {
      "cell_type": "markdown",
      "metadata": {
        "id": "WrQnCcFuI0Bm"
      },
      "source": [
        "# RELEVANCIA"
      ]
    },
    {
      "cell_type": "code",
      "execution_count": 15,
      "metadata": {},
      "outputs": [
        {
          "name": "stdout",
          "output_type": "stream",
          "text": [
            "0.22476630444674645\n"
          ]
        },
        {
          "data": {
            "text/html": [
              "<div>\n",
              "<style scoped>\n",
              "    .dataframe tbody tr th:only-of-type {\n",
              "        vertical-align: middle;\n",
              "    }\n",
              "\n",
              "    .dataframe tbody tr th {\n",
              "        vertical-align: top;\n",
              "    }\n",
              "\n",
              "    .dataframe thead th {\n",
              "        text-align: right;\n",
              "    }\n",
              "</style>\n",
              "<table border=\"1\" class=\"dataframe\">\n",
              "  <thead>\n",
              "    <tr style=\"text-align: right;\">\n",
              "      <th></th>\n",
              "      <th>query_id</th>\n",
              "      <th>true_dcg_k</th>\n",
              "      <th>els_dcg_k</th>\n",
              "      <th>els_ndcg_k</th>\n",
              "    </tr>\n",
              "  </thead>\n",
              "  <tbody>\n",
              "    <tr>\n",
              "      <th>0</th>\n",
              "      <td>1</td>\n",
              "      <td>24.751266</td>\n",
              "      <td>7.018690</td>\n",
              "      <td>0.283569</td>\n",
              "    </tr>\n",
              "    <tr>\n",
              "      <th>1</th>\n",
              "      <td>2</td>\n",
              "      <td>20.037305</td>\n",
              "      <td>4.471278</td>\n",
              "      <td>0.223148</td>\n",
              "    </tr>\n",
              "    <tr>\n",
              "      <th>2</th>\n",
              "      <td>33</td>\n",
              "      <td>6.462113</td>\n",
              "      <td>1.204120</td>\n",
              "      <td>0.186335</td>\n",
              "    </tr>\n",
              "    <tr>\n",
              "      <th>3</th>\n",
              "      <td>56</td>\n",
              "      <td>14.764365</td>\n",
              "      <td>1.333333</td>\n",
              "      <td>0.090308</td>\n",
              "    </tr>\n",
              "    <tr>\n",
              "      <th>4</th>\n",
              "      <td>57</td>\n",
              "      <td>18.633786</td>\n",
              "      <td>3.333333</td>\n",
              "      <td>0.178887</td>\n",
              "    </tr>\n",
              "    <tr>\n",
              "      <th>5</th>\n",
              "      <td>109</td>\n",
              "      <td>5.227311</td>\n",
              "      <td>1.500000</td>\n",
              "      <td>0.286954</td>\n",
              "    </tr>\n",
              "    <tr>\n",
              "      <th>6</th>\n",
              "      <td>130</td>\n",
              "      <td>7.489170</td>\n",
              "      <td>1.500000</td>\n",
              "      <td>0.200289</td>\n",
              "    </tr>\n",
              "    <tr>\n",
              "      <th>7</th>\n",
              "      <td>171</td>\n",
              "      <td>3.200253</td>\n",
              "      <td>1.204120</td>\n",
              "      <td>0.376258</td>\n",
              "    </tr>\n",
              "    <tr>\n",
              "      <th>8</th>\n",
              "      <td>196</td>\n",
              "      <td>12.601480</td>\n",
              "      <td>3.819367</td>\n",
              "      <td>0.303089</td>\n",
              "    </tr>\n",
              "    <tr>\n",
              "      <th>9</th>\n",
              "      <td>214</td>\n",
              "      <td>7.297966</td>\n",
              "      <td>0.867194</td>\n",
              "      <td>0.118827</td>\n",
              "    </tr>\n",
              "  </tbody>\n",
              "</table>\n",
              "</div>"
            ],
            "text/plain": [
              "   query_id  true_dcg_k  els_dcg_k  els_ndcg_k\n",
              "0         1   24.751266   7.018690    0.283569\n",
              "1         2   20.037305   4.471278    0.223148\n",
              "2        33    6.462113   1.204120    0.186335\n",
              "3        56   14.764365   1.333333    0.090308\n",
              "4        57   18.633786   3.333333    0.178887\n",
              "5       109    5.227311   1.500000    0.286954\n",
              "6       130    7.489170   1.500000    0.200289\n",
              "7       171    3.200253   1.204120    0.376258\n",
              "8       196   12.601480   3.819367    0.303089\n",
              "9       214    7.297966   0.867194    0.118827"
            ]
          },
          "execution_count": 15,
          "metadata": {},
          "output_type": "execute_result"
        }
      ],
      "source": [
        "import pandas as pd\n",
        "import functions.evaluetion_functions as ev\n",
        "import functions.documents_process as dp\n",
        "\n",
        "\n",
        "metrics = ev.generate_metrics_dcg_k(dataset, documents, \"ELS\")\n",
        "\n",
        "df = pd.DataFrame(metrics)\n",
        "df.to_json('els_ndcg.json')\n",
        "x = dp.sum_relevance(metrics['els_ndcg_k']) / len(metrics['els_ndcg_k'])\n",
        "print(x)\n",
        "df"
      ]
    },
    {
      "cell_type": "code",
      "execution_count": 16,
      "metadata": {},
      "outputs": [
        {
          "data": {
            "text/plain": [
              "0.195247491638796"
            ]
          },
          "execution_count": 16,
          "metadata": {},
          "output_type": "execute_result"
        }
      ],
      "source": [
        "metrics = ev.recall_precision(dataset, documents, \"ELS\")\n",
        "df = pd.DataFrame(metrics)\n",
        "df.to_json('els_recall_precision.json')\n",
        "df\n",
        "dp.sum_relevance(metrics['f_scores']) / len(metrics['f_scores'])"
      ]
    }
  ],
  "metadata": {
    "colab": {
      "collapsed_sections": [],
      "name": "Avaliação do sistema.ipynb",
      "provenance": [],
      "toc_visible": true
    },
    "kernelspec": {
      "display_name": "Python 3.9.13 64-bit",
      "language": "python",
      "name": "python3"
    },
    "language_info": {
      "codemirror_mode": {
        "name": "ipython",
        "version": 3
      },
      "file_extension": ".py",
      "mimetype": "text/x-python",
      "name": "python",
      "nbconvert_exporter": "python",
      "pygments_lexer": "ipython3",
      "version": "3.9.15 (main, Oct 11 2022, 21:39:54) \n[Clang 14.0.0 (clang-1400.0.29.102)]"
    },
    "vscode": {
      "interpreter": {
        "hash": "a665b5d41d17b532ea9890333293a1b812fa0b73c9c25c950b3cedf1bebd0438"
      }
    }
  },
  "nbformat": 4,
  "nbformat_minor": 0
}
